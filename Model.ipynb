{
  "cells": [
    {
      "cell_type": "code",
      "execution_count": 1,
      "metadata": {
        "id": "ii4pcME2-fJ1"
      },
      "outputs": [],
      "source": [
        "#EEG\n",
        "import pandas as pd\n",
        "import numpy as np\n",
        "import matplotlib.pyplot as plt"
      ]
    },
    {
      "cell_type": "code",
      "execution_count": 2,
      "metadata": {
        "colab": {
          "base_uri": "https://localhost:8080/",
          "height": 676
        },
        "id": "RdrAqFrj7Lvr",
        "outputId": "1a9feab5-be16-4d41-c72a-6d5f835edb11"
      },
      "outputs": [
        {
          "data": {
            "text/html": [
              "<div>\n",
              "<style scoped>\n",
              "    .dataframe tbody tr th:only-of-type {\n",
              "        vertical-align: middle;\n",
              "    }\n",
              "\n",
              "    .dataframe tbody tr th {\n",
              "        vertical-align: top;\n",
              "    }\n",
              "\n",
              "    .dataframe thead th {\n",
              "        text-align: right;\n",
              "    }\n",
              "</style>\n",
              "<table border=\"1\" class=\"dataframe\">\n",
              "  <thead>\n",
              "    <tr style=\"text-align: right;\">\n",
              "      <th></th>\n",
              "      <th>FP1</th>\n",
              "      <th>FP2</th>\n",
              "      <th>C3</th>\n",
              "      <th>C4</th>\n",
              "      <th>P7</th>\n",
              "      <th>P8</th>\n",
              "      <th>O1</th>\n",
              "      <th>O2</th>\n",
              "      <th>Label</th>\n",
              "    </tr>\n",
              "  </thead>\n",
              "  <tbody>\n",
              "    <tr>\n",
              "      <th>415712</th>\n",
              "      <td>-36648611</td>\n",
              "      <td>-17353107</td>\n",
              "      <td>-70714863</td>\n",
              "      <td>-400000047</td>\n",
              "      <td>-16266634</td>\n",
              "      <td>-506448</td>\n",
              "      <td>-27956202</td>\n",
              "      <td>-41443925</td>\n",
              "      <td>underload</td>\n",
              "    </tr>\n",
              "    <tr>\n",
              "      <th>292064</th>\n",
              "      <td>-29782823</td>\n",
              "      <td>4680204</td>\n",
              "      <td>-32059196</td>\n",
              "      <td>-362009616</td>\n",
              "      <td>-40355162</td>\n",
              "      <td>-20345690</td>\n",
              "      <td>-1355981</td>\n",
              "      <td>-8811045</td>\n",
              "      <td>underload</td>\n",
              "    </tr>\n",
              "    <tr>\n",
              "      <th>153183</th>\n",
              "      <td>-15561105</td>\n",
              "      <td>9390498</td>\n",
              "      <td>-24297526</td>\n",
              "      <td>-55393273</td>\n",
              "      <td>-18736030</td>\n",
              "      <td>-5854416</td>\n",
              "      <td>6615258</td>\n",
              "      <td>13183738</td>\n",
              "      <td>underload</td>\n",
              "    </tr>\n",
              "    <tr>\n",
              "      <th>287420</th>\n",
              "      <td>-30103305</td>\n",
              "      <td>4424286</td>\n",
              "      <td>-32969907</td>\n",
              "      <td>-359373707</td>\n",
              "      <td>-40994458</td>\n",
              "      <td>-20888474</td>\n",
              "      <td>-957965</td>\n",
              "      <td>-8625794</td>\n",
              "      <td>underload</td>\n",
              "    </tr>\n",
              "    <tr>\n",
              "      <th>852562</th>\n",
              "      <td>43820052</td>\n",
              "      <td>38355974</td>\n",
              "      <td>29075530</td>\n",
              "      <td>15447666</td>\n",
              "      <td>25629571</td>\n",
              "      <td>58887536</td>\n",
              "      <td>18941643</td>\n",
              "      <td>79834041</td>\n",
              "      <td>underload</td>\n",
              "    </tr>\n",
              "    <tr>\n",
              "      <th>733530</th>\n",
              "      <td>42815165</td>\n",
              "      <td>37848953</td>\n",
              "      <td>24428513</td>\n",
              "      <td>4981804</td>\n",
              "      <td>27923491</td>\n",
              "      <td>59555728</td>\n",
              "      <td>26425030</td>\n",
              "      <td>86103544</td>\n",
              "      <td>overload</td>\n",
              "    </tr>\n",
              "    <tr>\n",
              "      <th>866866</th>\n",
              "      <td>42916159</td>\n",
              "      <td>36341766</td>\n",
              "      <td>25620034</td>\n",
              "      <td>17294742</td>\n",
              "      <td>28593734</td>\n",
              "      <td>57655579</td>\n",
              "      <td>22804310</td>\n",
              "      <td>76860770</td>\n",
              "      <td>normal</td>\n",
              "    </tr>\n",
              "    <tr>\n",
              "      <th>581434</th>\n",
              "      <td>31617979</td>\n",
              "      <td>19020368</td>\n",
              "      <td>32132915</td>\n",
              "      <td>6247521</td>\n",
              "      <td>2286911</td>\n",
              "      <td>28315356</td>\n",
              "      <td>70656546</td>\n",
              "      <td>53752476</td>\n",
              "      <td>overload</td>\n",
              "    </tr>\n",
              "    <tr>\n",
              "      <th>824487</th>\n",
              "      <td>36887125</td>\n",
              "      <td>34965423</td>\n",
              "      <td>24936011</td>\n",
              "      <td>24812892</td>\n",
              "      <td>21779110</td>\n",
              "      <td>53548580</td>\n",
              "      <td>21721556</td>\n",
              "      <td>73806437</td>\n",
              "      <td>underload</td>\n",
              "    </tr>\n",
              "    <tr>\n",
              "      <th>494080</th>\n",
              "      <td>-28847840</td>\n",
              "      <td>-15103675</td>\n",
              "      <td>-77920303</td>\n",
              "      <td>-400000047</td>\n",
              "      <td>-11458016</td>\n",
              "      <td>1552629</td>\n",
              "      <td>-29336408</td>\n",
              "      <td>-41010146</td>\n",
              "      <td>normal</td>\n",
              "    </tr>\n",
              "    <tr>\n",
              "      <th>750310</th>\n",
              "      <td>41830353</td>\n",
              "      <td>36234335</td>\n",
              "      <td>24558976</td>\n",
              "      <td>1920747</td>\n",
              "      <td>25696376</td>\n",
              "      <td>57287747</td>\n",
              "      <td>25445130</td>\n",
              "      <td>83249054</td>\n",
              "      <td>overload</td>\n",
              "    </tr>\n",
              "    <tr>\n",
              "      <th>651230</th>\n",
              "      <td>32641223</td>\n",
              "      <td>22588351</td>\n",
              "      <td>28289845</td>\n",
              "      <td>12022353</td>\n",
              "      <td>17296602</td>\n",
              "      <td>42716746</td>\n",
              "      <td>51963478</td>\n",
              "      <td>67645605</td>\n",
              "      <td>normal</td>\n",
              "    </tr>\n",
              "    <tr>\n",
              "      <th>556968</th>\n",
              "      <td>-30614188</td>\n",
              "      <td>-16156866</td>\n",
              "      <td>-66129501</td>\n",
              "      <td>-400000047</td>\n",
              "      <td>-10714532</td>\n",
              "      <td>2413463</td>\n",
              "      <td>-27864650</td>\n",
              "      <td>-38871006</td>\n",
              "      <td>normal</td>\n",
              "    </tr>\n",
              "    <tr>\n",
              "      <th>545998</th>\n",
              "      <td>-36278347</td>\n",
              "      <td>-17035200</td>\n",
              "      <td>-65521343</td>\n",
              "      <td>-400000047</td>\n",
              "      <td>-14058067</td>\n",
              "      <td>1080894</td>\n",
              "      <td>-28206637</td>\n",
              "      <td>-39833598</td>\n",
              "      <td>underload</td>\n",
              "    </tr>\n",
              "    <tr>\n",
              "      <th>482212</th>\n",
              "      <td>-30968002</td>\n",
              "      <td>-15187885</td>\n",
              "      <td>-64570243</td>\n",
              "      <td>-400000047</td>\n",
              "      <td>-10742474</td>\n",
              "      <td>2587938</td>\n",
              "      <td>-30129054</td>\n",
              "      <td>-39425854</td>\n",
              "      <td>normal</td>\n",
              "    </tr>\n",
              "    <tr>\n",
              "      <th>579343</th>\n",
              "      <td>31321052</td>\n",
              "      <td>18839886</td>\n",
              "      <td>31743577</td>\n",
              "      <td>5312395</td>\n",
              "      <td>2540445</td>\n",
              "      <td>27991155</td>\n",
              "      <td>70618971</td>\n",
              "      <td>53413588</td>\n",
              "      <td>overload</td>\n",
              "    </tr>\n",
              "    <tr>\n",
              "      <th>209373</th>\n",
              "      <td>-10664798</td>\n",
              "      <td>8300019</td>\n",
              "      <td>-26141789</td>\n",
              "      <td>-29387668</td>\n",
              "      <td>-18341638</td>\n",
              "      <td>-4130316</td>\n",
              "      <td>8634139</td>\n",
              "      <td>16467001</td>\n",
              "      <td>overload</td>\n",
              "    </tr>\n",
              "    <tr>\n",
              "      <th>531191</th>\n",
              "      <td>-37332539</td>\n",
              "      <td>-17865183</td>\n",
              "      <td>-73477563</td>\n",
              "      <td>-400000047</td>\n",
              "      <td>-17193700</td>\n",
              "      <td>-1141309</td>\n",
              "      <td>-29298356</td>\n",
              "      <td>-41982703</td>\n",
              "      <td>underload</td>\n",
              "    </tr>\n",
              "    <tr>\n",
              "      <th>453867</th>\n",
              "      <td>-36399654</td>\n",
              "      <td>-16880657</td>\n",
              "      <td>-66124637</td>\n",
              "      <td>-400000047</td>\n",
              "      <td>-12602378</td>\n",
              "      <td>1851272</td>\n",
              "      <td>-27074292</td>\n",
              "      <td>-39421038</td>\n",
              "      <td>overload</td>\n",
              "    </tr>\n",
              "    <tr>\n",
              "      <th>763876</th>\n",
              "      <td>43283610</td>\n",
              "      <td>36604361</td>\n",
              "      <td>26951745</td>\n",
              "      <td>20769121</td>\n",
              "      <td>28991082</td>\n",
              "      <td>58660561</td>\n",
              "      <td>24394228</td>\n",
              "      <td>72143229</td>\n",
              "      <td>normal</td>\n",
              "    </tr>\n",
              "  </tbody>\n",
              "</table>\n",
              "</div>"
            ],
            "text/plain": [
              "             FP1       FP2        C3         C4        P7        P8        O1  \\\n",
              "415712 -36648611 -17353107 -70714863 -400000047 -16266634   -506448 -27956202   \n",
              "292064 -29782823   4680204 -32059196 -362009616 -40355162 -20345690  -1355981   \n",
              "153183 -15561105   9390498 -24297526  -55393273 -18736030  -5854416   6615258   \n",
              "287420 -30103305   4424286 -32969907 -359373707 -40994458 -20888474   -957965   \n",
              "852562  43820052  38355974  29075530   15447666  25629571  58887536  18941643   \n",
              "733530  42815165  37848953  24428513    4981804  27923491  59555728  26425030   \n",
              "866866  42916159  36341766  25620034   17294742  28593734  57655579  22804310   \n",
              "581434  31617979  19020368  32132915    6247521   2286911  28315356  70656546   \n",
              "824487  36887125  34965423  24936011   24812892  21779110  53548580  21721556   \n",
              "494080 -28847840 -15103675 -77920303 -400000047 -11458016   1552629 -29336408   \n",
              "750310  41830353  36234335  24558976    1920747  25696376  57287747  25445130   \n",
              "651230  32641223  22588351  28289845   12022353  17296602  42716746  51963478   \n",
              "556968 -30614188 -16156866 -66129501 -400000047 -10714532   2413463 -27864650   \n",
              "545998 -36278347 -17035200 -65521343 -400000047 -14058067   1080894 -28206637   \n",
              "482212 -30968002 -15187885 -64570243 -400000047 -10742474   2587938 -30129054   \n",
              "579343  31321052  18839886  31743577    5312395   2540445  27991155  70618971   \n",
              "209373 -10664798   8300019 -26141789  -29387668 -18341638  -4130316   8634139   \n",
              "531191 -37332539 -17865183 -73477563 -400000047 -17193700  -1141309 -29298356   \n",
              "453867 -36399654 -16880657 -66124637 -400000047 -12602378   1851272 -27074292   \n",
              "763876  43283610  36604361  26951745   20769121  28991082  58660561  24394228   \n",
              "\n",
              "              O2      Label  \n",
              "415712 -41443925  underload  \n",
              "292064  -8811045  underload  \n",
              "153183  13183738  underload  \n",
              "287420  -8625794  underload  \n",
              "852562  79834041  underload  \n",
              "733530  86103544   overload  \n",
              "866866  76860770     normal  \n",
              "581434  53752476   overload  \n",
              "824487  73806437  underload  \n",
              "494080 -41010146     normal  \n",
              "750310  83249054   overload  \n",
              "651230  67645605     normal  \n",
              "556968 -38871006     normal  \n",
              "545998 -39833598  underload  \n",
              "482212 -39425854     normal  \n",
              "579343  53413588   overload  \n",
              "209373  16467001   overload  \n",
              "531191 -41982703  underload  \n",
              "453867 -39421038   overload  \n",
              "763876  72143229     normal  "
            ]
          },
          "execution_count": 2,
          "metadata": {},
          "output_type": "execute_result"
        }
      ],
      "source": [
        "df = pd.read_csv('signals_data.csv')\n",
        "df.sample(20)\n",
        "# the values usually represent the electrical potentials recorded at each electrode. The units are typically microvolts (μV) or millivolts (mV)"
      ]
    },
    {
      "cell_type": "code",
      "execution_count": 3,
      "metadata": {
        "colab": {
          "base_uri": "https://localhost:8080/"
        },
        "id": "pZbTJim7QD24",
        "outputId": "7f60a219-c9e7-46e5-d136-ba931d0c7741"
      },
      "outputs": [
        {
          "data": {
            "text/plain": [
              "['FP1', 'FP2', 'C3', 'C4', 'P7', 'P8', 'O1', 'O2', 'Label']"
            ]
          },
          "execution_count": 3,
          "metadata": {},
          "output_type": "execute_result"
        }
      ],
      "source": [
        "# len(df.columns.tolist())\n",
        "# To list the columns names\n",
        "df.columns.tolist()"
      ]
    },
    {
      "cell_type": "markdown",
      "metadata": {
        "id": "8lWH0ulQQ6le"
      },
      "source": [
        "Represent electrode locations in an EEG (electroencephalogram) data set. EEG is a recording of electrical activity along the scalp produced by the firing of neurons within the brain. Each column corresponds to the electrical activity recorded at a specific location on the scalp."
      ]
    },
    {
      "cell_type": "markdown",
      "metadata": {
        "id": "YA4tnwEKQ8aJ"
      },
      "source": [
        "* Fp1, Fp2: Frontopolar (Frontoparietal) - frontal pole\n",
        "* AF3, AF4: Anterior Frontal - frontal region\n",
        "* F3, F4: Frontal - frontal region\n",
        "* F7, F8: Frontotemporal - frontotemporal region\n",
        "* FC5, FC6: Frontocentral - frontocentral region\n",
        "* FC1, FC2: Frontal - frontal region\n",
        "* C3, C4: Central - central region\n",
        "* T7, T8: Temporal - temporal region\n",
        "* CP5, CP6: Centroparietal - centroparietal region\n",
        "* CP1, CP2: Parietal - parietal region\n",
        "* P3, P4: Parietal - parietal region\n",
        "* P7, P8: Parietooccipital - parietooccipital region\n",
        "* PO3, PO4: Parietooccipital - parietooccipital region\n",
        "* O1, O2: Occipital - occipital region\n",
        "* Oz: Occipital midline - midline occipital region\n",
        "* Pz: Parietal midline - midline parietal region\n",
        "* Fz: Frontal midline - midline frontal region"
      ]
    },
    {
      "cell_type": "markdown",
      "metadata": {
        "id": "IUliXM-wSLn5"
      },
      "source": [
        "![Screenshot 2024-01-07 194300.png](data:image/png;base64,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)"
      ]
    },
    {
      "cell_type": "code",
      "execution_count": 4,
      "metadata": {
        "colab": {
          "base_uri": "https://localhost:8080/"
        },
        "id": "42fyHXjAlWuG",
        "outputId": "fef42285-ac0c-4526-c11d-9c235ea54889"
      },
      "outputs": [
        {
          "data": {
            "text/plain": [
              "FP1      0\n",
              "FP2      0\n",
              "C3       0\n",
              "C4       0\n",
              "P7       0\n",
              "P8       0\n",
              "O1       0\n",
              "O2       0\n",
              "Label    0\n",
              "dtype: int64"
            ]
          },
          "execution_count": 4,
          "metadata": {},
          "output_type": "execute_result"
        }
      ],
      "source": [
        "df.isnull().sum()"
      ]
    },
    {
      "cell_type": "code",
      "execution_count": 5,
      "metadata": {
        "colab": {
          "base_uri": "https://localhost:8080/"
        },
        "id": "LBIAu7dbp_E5",
        "outputId": "38d3f4b5-232e-4a6e-ed96-ee0f2309e93b"
      },
      "outputs": [
        {
          "data": {
            "text/plain": [
              "(877455, 9)"
            ]
          },
          "execution_count": 5,
          "metadata": {},
          "output_type": "execute_result"
        }
      ],
      "source": [
        "df.shape"
      ]
    },
    {
      "cell_type": "code",
      "execution_count": 6,
      "metadata": {
        "colab": {
          "base_uri": "https://localhost:8080/"
        },
        "id": "szroZTGEr7Qy",
        "outputId": "a964f892-f311-41c4-af6a-9d2dc98e103b"
      },
      "outputs": [
        {
          "name": "stdout",
          "output_type": "stream",
          "text": [
            "Duplicate Rows:\n",
            "             FP1       FP2        C3         C4        P7        P8        O1  \\\n",
            "479    -29628280   9715510 -23895552 -343290512 -35207943 -22318222  -5479622   \n",
            "480    -29628280   9715510 -23895552 -343290512 -35207943 -22318222  -5479622   \n",
            "481    -29628280   9715510 -23895552 -343290512 -35207943 -22318222  -5479622   \n",
            "482    -29628280   9715510 -23895552 -343290512 -35207943 -22318222  -5479622   \n",
            "483    -29628280   9715510 -23895552 -343290512 -35207943 -22318222  -5479622   \n",
            "...          ...       ...       ...        ...       ...       ...       ...   \n",
            "877440  41985373  34909109  24197438   17841293  27686646  55767971  19920160   \n",
            "877441  41985373  34909109  24197438   17841293  27686646  55767971  19920160   \n",
            "877442  41985373  34909109  24197438   17841293  27686646  55767971  19920160   \n",
            "877443  41985373  34909109  24197438   17841293  27686646  55767971  19920160   \n",
            "877444  41985373  34909109  24197438   17841293  27686646  55767971  19920160   \n",
            "\n",
            "              O2     Label  \n",
            "479     -7047749  overload  \n",
            "480     -7047749  overload  \n",
            "481     -7047749  overload  \n",
            "482     -7047749  overload  \n",
            "483     -7047749  overload  \n",
            "...          ...       ...  \n",
            "877440  73954018    normal  \n",
            "877441  73954018    normal  \n",
            "877442  73954018    normal  \n",
            "877443  73954018    normal  \n",
            "877444  73954018    normal  \n",
            "\n",
            "[349080 rows x 9 columns]\n"
          ]
        }
      ],
      "source": [
        "duplicate_rows = df[df.duplicated()]\n",
        "\n",
        "# Print duplicate rows\n",
        "print(\"Duplicate Rows:\")\n",
        "print(duplicate_rows)\n",
        "\n",
        "# Remove duplicate rows\n",
        "df = df.drop_duplicates()\n",
        "\n",
        "# After removing duplicates, reset index\n",
        "df.reset_index(drop=True, inplace=True)"
      ]
    },
    {
      "cell_type": "code",
      "execution_count": 7,
      "metadata": {
        "colab": {
          "base_uri": "https://localhost:8080/",
          "height": 423
        },
        "id": "pxLLbjRPsCWh",
        "outputId": "a4d0a897-3a8a-4c9b-8917-32c26ca667fa"
      },
      "outputs": [
        {
          "data": {
            "text/html": [
              "<div>\n",
              "<style scoped>\n",
              "    .dataframe tbody tr th:only-of-type {\n",
              "        vertical-align: middle;\n",
              "    }\n",
              "\n",
              "    .dataframe tbody tr th {\n",
              "        vertical-align: top;\n",
              "    }\n",
              "\n",
              "    .dataframe thead th {\n",
              "        text-align: right;\n",
              "    }\n",
              "</style>\n",
              "<table border=\"1\" class=\"dataframe\">\n",
              "  <thead>\n",
              "    <tr style=\"text-align: right;\">\n",
              "      <th></th>\n",
              "      <th>FP1</th>\n",
              "      <th>FP2</th>\n",
              "      <th>C3</th>\n",
              "      <th>C4</th>\n",
              "      <th>P7</th>\n",
              "      <th>P8</th>\n",
              "      <th>O1</th>\n",
              "      <th>O2</th>\n",
              "      <th>Label</th>\n",
              "    </tr>\n",
              "  </thead>\n",
              "  <tbody>\n",
              "    <tr>\n",
              "      <th>0</th>\n",
              "      <td>-29691413</td>\n",
              "      <td>9874535</td>\n",
              "      <td>-23121979</td>\n",
              "      <td>-343932669</td>\n",
              "      <td>-34863476</td>\n",
              "      <td>-22378256</td>\n",
              "      <td>-5261850</td>\n",
              "      <td>-6907988</td>\n",
              "      <td>overload</td>\n",
              "    </tr>\n",
              "    <tr>\n",
              "      <th>1</th>\n",
              "      <td>-29654887</td>\n",
              "      <td>9967805</td>\n",
              "      <td>-23165610</td>\n",
              "      <td>-343960755</td>\n",
              "      <td>-34881166</td>\n",
              "      <td>-22370007</td>\n",
              "      <td>-5094624</td>\n",
              "      <td>-6763745</td>\n",
              "      <td>overload</td>\n",
              "    </tr>\n",
              "    <tr>\n",
              "      <th>2</th>\n",
              "      <td>-29608014</td>\n",
              "      <td>10060359</td>\n",
              "      <td>-23222496</td>\n",
              "      <td>-344004338</td>\n",
              "      <td>-34901670</td>\n",
              "      <td>-22357085</td>\n",
              "      <td>-4956532</td>\n",
              "      <td>-6628800</td>\n",
              "      <td>overload</td>\n",
              "    </tr>\n",
              "    <tr>\n",
              "      <th>3</th>\n",
              "      <td>-29564002</td>\n",
              "      <td>10121966</td>\n",
              "      <td>-23267844</td>\n",
              "      <td>-344035475</td>\n",
              "      <td>-34910921</td>\n",
              "      <td>-22340872</td>\n",
              "      <td>-4911709</td>\n",
              "      <td>-6554985</td>\n",
              "      <td>overload</td>\n",
              "    </tr>\n",
              "    <tr>\n",
              "      <th>4</th>\n",
              "      <td>-29555419</td>\n",
              "      <td>10105324</td>\n",
              "      <td>-23300221</td>\n",
              "      <td>-344054692</td>\n",
              "      <td>-34920172</td>\n",
              "      <td>-22340967</td>\n",
              "      <td>-5000448</td>\n",
              "      <td>-6593657</td>\n",
              "      <td>overload</td>\n",
              "    </tr>\n",
              "    <tr>\n",
              "      <th>...</th>\n",
              "      <td>...</td>\n",
              "      <td>...</td>\n",
              "      <td>...</td>\n",
              "      <td>...</td>\n",
              "      <td>...</td>\n",
              "      <td>...</td>\n",
              "      <td>...</td>\n",
              "      <td>...</td>\n",
              "      <td>...</td>\n",
              "    </tr>\n",
              "    <tr>\n",
              "      <th>528370</th>\n",
              "      <td>41736607</td>\n",
              "      <td>34584097</td>\n",
              "      <td>24172356</td>\n",
              "      <td>17887403</td>\n",
              "      <td>27711108</td>\n",
              "      <td>55587202</td>\n",
              "      <td>19716217</td>\n",
              "      <td>73737296</td>\n",
              "      <td>normal</td>\n",
              "    </tr>\n",
              "    <tr>\n",
              "      <th>528371</th>\n",
              "      <td>41699319</td>\n",
              "      <td>34574608</td>\n",
              "      <td>24124386</td>\n",
              "      <td>17886688</td>\n",
              "      <td>27667430</td>\n",
              "      <td>55541283</td>\n",
              "      <td>19687988</td>\n",
              "      <td>73719891</td>\n",
              "      <td>normal</td>\n",
              "    </tr>\n",
              "    <tr>\n",
              "      <th>528372</th>\n",
              "      <td>41721492</td>\n",
              "      <td>34616808</td>\n",
              "      <td>24101307</td>\n",
              "      <td>17873813</td>\n",
              "      <td>27638915</td>\n",
              "      <td>55545527</td>\n",
              "      <td>19720747</td>\n",
              "      <td>73739108</td>\n",
              "      <td>normal</td>\n",
              "    </tr>\n",
              "    <tr>\n",
              "      <th>528373</th>\n",
              "      <td>41815667</td>\n",
              "      <td>34698108</td>\n",
              "      <td>24107268</td>\n",
              "      <td>17846061</td>\n",
              "      <td>27632049</td>\n",
              "      <td>55608899</td>\n",
              "      <td>19807770</td>\n",
              "      <td>73798331</td>\n",
              "      <td>normal</td>\n",
              "    </tr>\n",
              "    <tr>\n",
              "      <th>528374</th>\n",
              "      <td>41920142</td>\n",
              "      <td>34782270</td>\n",
              "      <td>24132683</td>\n",
              "      <td>17819883</td>\n",
              "      <td>27653125</td>\n",
              "      <td>55670744</td>\n",
              "      <td>19877817</td>\n",
              "      <td>73892411</td>\n",
              "      <td>normal</td>\n",
              "    </tr>\n",
              "  </tbody>\n",
              "</table>\n",
              "<p>528375 rows × 9 columns</p>\n",
              "</div>"
            ],
            "text/plain": [
              "             FP1       FP2        C3         C4        P7        P8        O1  \\\n",
              "0      -29691413   9874535 -23121979 -343932669 -34863476 -22378256  -5261850   \n",
              "1      -29654887   9967805 -23165610 -343960755 -34881166 -22370007  -5094624   \n",
              "2      -29608014  10060359 -23222496 -344004338 -34901670 -22357085  -4956532   \n",
              "3      -29564002  10121966 -23267844 -344035475 -34910921 -22340872  -4911709   \n",
              "4      -29555419  10105324 -23300221 -344054692 -34920172 -22340967  -5000448   \n",
              "...          ...       ...       ...        ...       ...       ...       ...   \n",
              "528370  41736607  34584097  24172356   17887403  27711108  55587202  19716217   \n",
              "528371  41699319  34574608  24124386   17886688  27667430  55541283  19687988   \n",
              "528372  41721492  34616808  24101307   17873813  27638915  55545527  19720747   \n",
              "528373  41815667  34698108  24107268   17846061  27632049  55608899  19807770   \n",
              "528374  41920142  34782270  24132683   17819883  27653125  55670744  19877817   \n",
              "\n",
              "              O2     Label  \n",
              "0       -6907988  overload  \n",
              "1       -6763745  overload  \n",
              "2       -6628800  overload  \n",
              "3       -6554985  overload  \n",
              "4       -6593657  overload  \n",
              "...          ...       ...  \n",
              "528370  73737296    normal  \n",
              "528371  73719891    normal  \n",
              "528372  73739108    normal  \n",
              "528373  73798331    normal  \n",
              "528374  73892411    normal  \n",
              "\n",
              "[528375 rows x 9 columns]"
            ]
          },
          "execution_count": 7,
          "metadata": {},
          "output_type": "execute_result"
        }
      ],
      "source": [
        "df"
      ]
    },
    {
      "cell_type": "code",
      "execution_count": 8,
      "metadata": {
        "id": "6WDg2jb8Qlhn"
      },
      "outputs": [],
      "source": [
        "# Drop the last column\n",
        "# df = df.iloc[:, :-1]"
      ]
    },
    {
      "cell_type": "code",
      "execution_count": 9,
      "metadata": {
        "colab": {
          "base_uri": "https://localhost:8080/",
          "height": 206
        },
        "id": "P7Uhv6h-Qlai",
        "outputId": "a0a07ee5-7976-4c3c-b214-c60ff277087f"
      },
      "outputs": [
        {
          "data": {
            "text/html": [
              "<div>\n",
              "<style scoped>\n",
              "    .dataframe tbody tr th:only-of-type {\n",
              "        vertical-align: middle;\n",
              "    }\n",
              "\n",
              "    .dataframe tbody tr th {\n",
              "        vertical-align: top;\n",
              "    }\n",
              "\n",
              "    .dataframe thead th {\n",
              "        text-align: right;\n",
              "    }\n",
              "</style>\n",
              "<table border=\"1\" class=\"dataframe\">\n",
              "  <thead>\n",
              "    <tr style=\"text-align: right;\">\n",
              "      <th></th>\n",
              "      <th>FP1</th>\n",
              "      <th>FP2</th>\n",
              "      <th>C3</th>\n",
              "      <th>C4</th>\n",
              "      <th>P7</th>\n",
              "      <th>P8</th>\n",
              "      <th>O1</th>\n",
              "      <th>O2</th>\n",
              "      <th>Label</th>\n",
              "    </tr>\n",
              "  </thead>\n",
              "  <tbody>\n",
              "    <tr>\n",
              "      <th>0</th>\n",
              "      <td>-29691413</td>\n",
              "      <td>9874535</td>\n",
              "      <td>-23121979</td>\n",
              "      <td>-343932669</td>\n",
              "      <td>-34863476</td>\n",
              "      <td>-22378256</td>\n",
              "      <td>-5261850</td>\n",
              "      <td>-6907988</td>\n",
              "      <td>overload</td>\n",
              "    </tr>\n",
              "    <tr>\n",
              "      <th>1</th>\n",
              "      <td>-29654887</td>\n",
              "      <td>9967805</td>\n",
              "      <td>-23165610</td>\n",
              "      <td>-343960755</td>\n",
              "      <td>-34881166</td>\n",
              "      <td>-22370007</td>\n",
              "      <td>-5094624</td>\n",
              "      <td>-6763745</td>\n",
              "      <td>overload</td>\n",
              "    </tr>\n",
              "    <tr>\n",
              "      <th>2</th>\n",
              "      <td>-29608014</td>\n",
              "      <td>10060359</td>\n",
              "      <td>-23222496</td>\n",
              "      <td>-344004338</td>\n",
              "      <td>-34901670</td>\n",
              "      <td>-22357085</td>\n",
              "      <td>-4956532</td>\n",
              "      <td>-6628800</td>\n",
              "      <td>overload</td>\n",
              "    </tr>\n",
              "    <tr>\n",
              "      <th>3</th>\n",
              "      <td>-29564002</td>\n",
              "      <td>10121966</td>\n",
              "      <td>-23267844</td>\n",
              "      <td>-344035475</td>\n",
              "      <td>-34910921</td>\n",
              "      <td>-22340872</td>\n",
              "      <td>-4911709</td>\n",
              "      <td>-6554985</td>\n",
              "      <td>overload</td>\n",
              "    </tr>\n",
              "    <tr>\n",
              "      <th>4</th>\n",
              "      <td>-29555419</td>\n",
              "      <td>10105324</td>\n",
              "      <td>-23300221</td>\n",
              "      <td>-344054692</td>\n",
              "      <td>-34920172</td>\n",
              "      <td>-22340967</td>\n",
              "      <td>-5000448</td>\n",
              "      <td>-6593657</td>\n",
              "      <td>overload</td>\n",
              "    </tr>\n",
              "  </tbody>\n",
              "</table>\n",
              "</div>"
            ],
            "text/plain": [
              "        FP1       FP2        C3         C4        P7        P8       O1  \\\n",
              "0 -29691413   9874535 -23121979 -343932669 -34863476 -22378256 -5261850   \n",
              "1 -29654887   9967805 -23165610 -343960755 -34881166 -22370007 -5094624   \n",
              "2 -29608014  10060359 -23222496 -344004338 -34901670 -22357085 -4956532   \n",
              "3 -29564002  10121966 -23267844 -344035475 -34910921 -22340872 -4911709   \n",
              "4 -29555419  10105324 -23300221 -344054692 -34920172 -22340967 -5000448   \n",
              "\n",
              "        O2     Label  \n",
              "0 -6907988  overload  \n",
              "1 -6763745  overload  \n",
              "2 -6628800  overload  \n",
              "3 -6554985  overload  \n",
              "4 -6593657  overload  "
            ]
          },
          "execution_count": 9,
          "metadata": {},
          "output_type": "execute_result"
        }
      ],
      "source": [
        "df.head()"
      ]
    },
    {
      "cell_type": "code",
      "execution_count": 10,
      "metadata": {
        "colab": {
          "base_uri": "https://localhost:8080/",
          "height": 557
        },
        "id": "jaRfX_qd7e9U",
        "outputId": "9b4700e8-0a80-4151-a33d-392bb35165b4"
      },
      "outputs": [
        {
          "data": {
            "image/png": "[encoded data removed]",
            "text/plain": [
              "<Figure size 1000x600 with 1 Axes>"
            ]
          },
          "metadata": {},
          "output_type": "display_data"
        }
      ],
      "source": [
        "def make_plot(column):\n",
        "    plt.figure(figsize=(10, 6))\n",
        "    plt.plot(df[column], label='EEG Signal', color='blue', linewidth=1.5)\n",
        "    plt.xlabel('Time')\n",
        "    plt.ylabel('Amplitude')\n",
        "    plt.title('EEG Signal Visualization')\n",
        "    plt.grid(True, linestyle='--', alpha=0.7)\n",
        "\n",
        "    plt.axhline(y=0, color='black', linestyle='--', linewidth=1)\n",
        "\n",
        "    plt.legend()\n",
        "    plt.show()\n",
        "\n",
        "make_plot('FP1')"
      ]
    },
    {
      "cell_type": "code",
      "execution_count": 11,
      "metadata": {
        "colab": {
          "base_uri": "https://localhost:8080/",
          "height": 557
        },
        "id": "nQzB99oO7pwa",
        "outputId": "b093076c-6c6f-4b08-b42e-5911e62ca35f"
      },
      "outputs": [
        {
          "data": {
            "image/png": "[encoded data removed]",
            "text/plain": [
              "<Figure size 1000x600 with 1 Axes>"
            ]
          },
          "metadata": {},
          "output_type": "display_data"
        }
      ],
      "source": [
        "make_plot('P8')"
      ]
    },
    {
      "cell_type": "code",
      "execution_count": 12,
      "metadata": {
        "colab": {
          "base_uri": "https://localhost:8080/"
        },
        "id": "QQ9Vd3ixdGqP",
        "outputId": "9c06b244-e2ed-428c-9a20-9ff948c115b6"
      },
      "outputs": [
        {
          "data": {
            "text/plain": [
              "528375"
            ]
          },
          "execution_count": 12,
          "metadata": {},
          "output_type": "execute_result"
        }
      ],
      "source": [
        "# df.shape\n",
        "len(df)"
      ]
    },
    {
      "cell_type": "code",
      "execution_count": 13,
      "metadata": {
        "id": "eHE3Yi_-030t"
      },
      "outputs": [],
      "source": [
        "norm = df.loc[df[\"Label\"]==\"normal\"]\n",
        "undld = df.loc[df[\"Label\"]==\"underload\"]\n",
        "ovrld = df.loc[df[\"Label\"]==\"overload\"]"
      ]
    },
    {
      "cell_type": "code",
      "execution_count": 14,
      "metadata": {
        "colab": {
          "base_uri": "https://localhost:8080/",
          "height": 423
        },
        "id": "YWh0ekx51rCI",
        "outputId": "d7912647-5c84-461e-a32f-950495f80c8d"
      },
      "outputs": [
        {
          "data": {
            "text/html": [
              "<div>\n",
              "<style scoped>\n",
              "    .dataframe tbody tr th:only-of-type {\n",
              "        vertical-align: middle;\n",
              "    }\n",
              "\n",
              "    .dataframe tbody tr th {\n",
              "        vertical-align: top;\n",
              "    }\n",
              "\n",
              "    .dataframe thead th {\n",
              "        text-align: right;\n",
              "    }\n",
              "</style>\n",
              "<table border=\"1\" class=\"dataframe\">\n",
              "  <thead>\n",
              "    <tr style=\"text-align: right;\">\n",
              "      <th></th>\n",
              "      <th>FP1</th>\n",
              "      <th>FP2</th>\n",
              "      <th>C3</th>\n",
              "      <th>C4</th>\n",
              "      <th>P7</th>\n",
              "      <th>P8</th>\n",
              "      <th>O1</th>\n",
              "      <th>O2</th>\n",
              "      <th>Label</th>\n",
              "    </tr>\n",
              "  </thead>\n",
              "  <tbody>\n",
              "    <tr>\n",
              "      <th>42589</th>\n",
              "      <td>-21141579</td>\n",
              "      <td>13768626</td>\n",
              "      <td>-16723730</td>\n",
              "      <td>-171040412</td>\n",
              "      <td>-21986820</td>\n",
              "      <td>-12846566</td>\n",
              "      <td>4912472</td>\n",
              "      <td>5531693</td>\n",
              "      <td>normal</td>\n",
              "    </tr>\n",
              "    <tr>\n",
              "      <th>42590</th>\n",
              "      <td>-21166851</td>\n",
              "      <td>13712646</td>\n",
              "      <td>-16671135</td>\n",
              "      <td>-170990105</td>\n",
              "      <td>-21967699</td>\n",
              "      <td>-12859536</td>\n",
              "      <td>4836464</td>\n",
              "      <td>5445624</td>\n",
              "      <td>normal</td>\n",
              "    </tr>\n",
              "    <tr>\n",
              "      <th>42591</th>\n",
              "      <td>-21179726</td>\n",
              "      <td>13690997</td>\n",
              "      <td>-16623069</td>\n",
              "      <td>-170941277</td>\n",
              "      <td>-21949579</td>\n",
              "      <td>-12865211</td>\n",
              "      <td>4833984</td>\n",
              "      <td>5416918</td>\n",
              "      <td>normal</td>\n",
              "    </tr>\n",
              "    <tr>\n",
              "      <th>42592</th>\n",
              "      <td>-21175625</td>\n",
              "      <td>13717557</td>\n",
              "      <td>-16602327</td>\n",
              "      <td>-170920344</td>\n",
              "      <td>-21942951</td>\n",
              "      <td>-12861968</td>\n",
              "      <td>4919100</td>\n",
              "      <td>5469799</td>\n",
              "      <td>normal</td>\n",
              "    </tr>\n",
              "    <tr>\n",
              "      <th>42593</th>\n",
              "      <td>-21163275</td>\n",
              "      <td>13774301</td>\n",
              "      <td>-16622974</td>\n",
              "      <td>-170938702</td>\n",
              "      <td>-21955301</td>\n",
              "      <td>-12857247</td>\n",
              "      <td>5038118</td>\n",
              "      <td>5563736</td>\n",
              "      <td>normal</td>\n",
              "    </tr>\n",
              "    <tr>\n",
              "      <th>...</th>\n",
              "      <td>...</td>\n",
              "      <td>...</td>\n",
              "      <td>...</td>\n",
              "      <td>...</td>\n",
              "      <td>...</td>\n",
              "      <td>...</td>\n",
              "      <td>...</td>\n",
              "      <td>...</td>\n",
              "      <td>...</td>\n",
              "    </tr>\n",
              "    <tr>\n",
              "      <th>528370</th>\n",
              "      <td>41736607</td>\n",
              "      <td>34584097</td>\n",
              "      <td>24172356</td>\n",
              "      <td>17887403</td>\n",
              "      <td>27711108</td>\n",
              "      <td>55587202</td>\n",
              "      <td>19716217</td>\n",
              "      <td>73737296</td>\n",
              "      <td>normal</td>\n",
              "    </tr>\n",
              "    <tr>\n",
              "      <th>528371</th>\n",
              "      <td>41699319</td>\n",
              "      <td>34574608</td>\n",
              "      <td>24124386</td>\n",
              "      <td>17886688</td>\n",
              "      <td>27667430</td>\n",
              "      <td>55541283</td>\n",
              "      <td>19687988</td>\n",
              "      <td>73719891</td>\n",
              "      <td>normal</td>\n",
              "    </tr>\n",
              "    <tr>\n",
              "      <th>528372</th>\n",
              "      <td>41721492</td>\n",
              "      <td>34616808</td>\n",
              "      <td>24101307</td>\n",
              "      <td>17873813</td>\n",
              "      <td>27638915</td>\n",
              "      <td>55545527</td>\n",
              "      <td>19720747</td>\n",
              "      <td>73739108</td>\n",
              "      <td>normal</td>\n",
              "    </tr>\n",
              "    <tr>\n",
              "      <th>528373</th>\n",
              "      <td>41815667</td>\n",
              "      <td>34698108</td>\n",
              "      <td>24107268</td>\n",
              "      <td>17846061</td>\n",
              "      <td>27632049</td>\n",
              "      <td>55608899</td>\n",
              "      <td>19807770</td>\n",
              "      <td>73798331</td>\n",
              "      <td>normal</td>\n",
              "    </tr>\n",
              "    <tr>\n",
              "      <th>528374</th>\n",
              "      <td>41920142</td>\n",
              "      <td>34782270</td>\n",
              "      <td>24132683</td>\n",
              "      <td>17819883</td>\n",
              "      <td>27653125</td>\n",
              "      <td>55670744</td>\n",
              "      <td>19877817</td>\n",
              "      <td>73892411</td>\n",
              "      <td>normal</td>\n",
              "    </tr>\n",
              "  </tbody>\n",
              "</table>\n",
              "<p>214890 rows × 9 columns</p>\n",
              "</div>"
            ],
            "text/plain": [
              "             FP1       FP2        C3         C4        P7        P8        O1  \\\n",
              "42589  -21141579  13768626 -16723730 -171040412 -21986820 -12846566   4912472   \n",
              "42590  -21166851  13712646 -16671135 -170990105 -21967699 -12859536   4836464   \n",
              "42591  -21179726  13690997 -16623069 -170941277 -21949579 -12865211   4833984   \n",
              "42592  -21175625  13717557 -16602327 -170920344 -21942951 -12861968   4919100   \n",
              "42593  -21163275  13774301 -16622974 -170938702 -21955301 -12857247   5038118   \n",
              "...          ...       ...       ...        ...       ...       ...       ...   \n",
              "528370  41736607  34584097  24172356   17887403  27711108  55587202  19716217   \n",
              "528371  41699319  34574608  24124386   17886688  27667430  55541283  19687988   \n",
              "528372  41721492  34616808  24101307   17873813  27638915  55545527  19720747   \n",
              "528373  41815667  34698108  24107268   17846061  27632049  55608899  19807770   \n",
              "528374  41920142  34782270  24132683   17819883  27653125  55670744  19877817   \n",
              "\n",
              "              O2   Label  \n",
              "42589    5531693  normal  \n",
              "42590    5445624  normal  \n",
              "42591    5416918  normal  \n",
              "42592    5469799  normal  \n",
              "42593    5563736  normal  \n",
              "...          ...     ...  \n",
              "528370  73737296  normal  \n",
              "528371  73719891  normal  \n",
              "528372  73739108  normal  \n",
              "528373  73798331  normal  \n",
              "528374  73892411  normal  \n",
              "\n",
              "[214890 rows x 9 columns]"
            ]
          },
          "execution_count": 14,
          "metadata": {},
          "output_type": "execute_result"
        }
      ],
      "source": [
        "norm"
      ]
    },
    {
      "cell_type": "code",
      "execution_count": 15,
      "metadata": {
        "colab": {
          "base_uri": "https://localhost:8080/",
          "height": 635
        },
        "id": "45xDSfA61vBR",
        "outputId": "982844de-f2e7-444d-aa40-623f463f1be2"
      },
      "outputs": [
        {
          "name": "stderr",
          "output_type": "stream",
          "text": [
            "C:\\Users\\LENOVO\\AppData\\Local\\Temp\\ipykernel_25796\\126714275.py:8: FutureWarning: \n",
            "\n",
            "Passing `palette` without assigning `hue` is deprecated and will be removed in v0.14.0. Assign the `x` variable to `hue` and set `legend=False` for the same effect.\n",
            "\n",
            "  ax = sns.countplot(x='Label', data=df, palette='viridis')\n"
          ]
        },
        {
          "data": {
            "image/png": "[encoded data removed]",
            "text/plain": [
              "<Figure size 1200x500 with 1 Axes>"
            ]
          },
          "metadata": {},
          "output_type": "display_data"
        }
      ],
      "source": [
        "import seaborn as sns\n",
        "\n",
        "plt.figure(figsize=(12, 5))\n",
        "plt.title(\"Data Distribution\", fontsize=16)\n",
        "# plt.style.use('seaborn-darkgrid')\n",
        "\n",
        "# Create the countplot with seaborn\n",
        "ax = sns.countplot(x='Label', data=df, palette='viridis')\n",
        "\n",
        "# Add exact count labels on top of each bar\n",
        "for p in ax.patches:\n",
        "    ax.annotate(f'{p.get_height()}', (p.get_x() + p.get_width() / 2., p.get_height() + 5),\n",
        "                ha='center', fontsize=10, color='black')\n",
        "\n",
        "plt.xlabel(\"Load state\", fontsize=14)\n",
        "plt.ylabel(\"Count\", fontsize=14)\n",
        "plt.show()"
      ]
    },
    {
      "cell_type": "code",
      "execution_count": 16,
      "metadata": {
        "colab": {
          "base_uri": "https://localhost:8080/"
        },
        "id": "NzNrfJcy279U",
        "outputId": "b67a6c21-8ad1-4509-aa0f-97498bcb0d0a"
      },
      "outputs": [
        {
          "name": "stdout",
          "output_type": "stream",
          "text": [
            "Label Mapping:\n",
            "normal: 0\n",
            "overload: 1\n",
            "underload: 2\n"
          ]
        }
      ],
      "source": [
        "from sklearn.preprocessing import LabelEncoder\n",
        "\n",
        "label_encoder = LabelEncoder()\n",
        "df['encoded_labels'] = label_encoder.fit_transform(df['Label'])\n",
        "label_mapping = dict(zip(label_encoder.classes_, label_encoder.transform(label_encoder.classes_)))\n",
        "\n",
        "print(\"Label Mapping:\")\n",
        "for label, encoded_value in label_mapping.items():\n",
        "    print(f\"{label}: {encoded_value}\")"
      ]
    },
    {
      "cell_type": "code",
      "execution_count": 17,
      "metadata": {
        "colab": {
          "base_uri": "https://localhost:8080/",
          "height": 206
        },
        "id": "VhKDdfWl3H1K",
        "outputId": "558f7398-85ed-4fd0-ee3e-9860ee716651"
      },
      "outputs": [
        {
          "data": {
            "text/html": [
              "<div>\n",
              "<style scoped>\n",
              "    .dataframe tbody tr th:only-of-type {\n",
              "        vertical-align: middle;\n",
              "    }\n",
              "\n",
              "    .dataframe tbody tr th {\n",
              "        vertical-align: top;\n",
              "    }\n",
              "\n",
              "    .dataframe thead th {\n",
              "        text-align: right;\n",
              "    }\n",
              "</style>\n",
              "<table border=\"1\" class=\"dataframe\">\n",
              "  <thead>\n",
              "    <tr style=\"text-align: right;\">\n",
              "      <th></th>\n",
              "      <th>FP1</th>\n",
              "      <th>FP2</th>\n",
              "      <th>C3</th>\n",
              "      <th>C4</th>\n",
              "      <th>P7</th>\n",
              "      <th>P8</th>\n",
              "      <th>O1</th>\n",
              "      <th>O2</th>\n",
              "      <th>Label</th>\n",
              "      <th>encoded_labels</th>\n",
              "    </tr>\n",
              "  </thead>\n",
              "  <tbody>\n",
              "    <tr>\n",
              "      <th>0</th>\n",
              "      <td>-29691413</td>\n",
              "      <td>9874535</td>\n",
              "      <td>-23121979</td>\n",
              "      <td>-343932669</td>\n",
              "      <td>-34863476</td>\n",
              "      <td>-22378256</td>\n",
              "      <td>-5261850</td>\n",
              "      <td>-6907988</td>\n",
              "      <td>overload</td>\n",
              "      <td>1</td>\n",
              "    </tr>\n",
              "    <tr>\n",
              "      <th>1</th>\n",
              "      <td>-29654887</td>\n",
              "      <td>9967805</td>\n",
              "      <td>-23165610</td>\n",
              "      <td>-343960755</td>\n",
              "      <td>-34881166</td>\n",
              "      <td>-22370007</td>\n",
              "      <td>-5094624</td>\n",
              "      <td>-6763745</td>\n",
              "      <td>overload</td>\n",
              "      <td>1</td>\n",
              "    </tr>\n",
              "    <tr>\n",
              "      <th>2</th>\n",
              "      <td>-29608014</td>\n",
              "      <td>10060359</td>\n",
              "      <td>-23222496</td>\n",
              "      <td>-344004338</td>\n",
              "      <td>-34901670</td>\n",
              "      <td>-22357085</td>\n",
              "      <td>-4956532</td>\n",
              "      <td>-6628800</td>\n",
              "      <td>overload</td>\n",
              "      <td>1</td>\n",
              "    </tr>\n",
              "    <tr>\n",
              "      <th>3</th>\n",
              "      <td>-29564002</td>\n",
              "      <td>10121966</td>\n",
              "      <td>-23267844</td>\n",
              "      <td>-344035475</td>\n",
              "      <td>-34910921</td>\n",
              "      <td>-22340872</td>\n",
              "      <td>-4911709</td>\n",
              "      <td>-6554985</td>\n",
              "      <td>overload</td>\n",
              "      <td>1</td>\n",
              "    </tr>\n",
              "    <tr>\n",
              "      <th>4</th>\n",
              "      <td>-29555419</td>\n",
              "      <td>10105324</td>\n",
              "      <td>-23300221</td>\n",
              "      <td>-344054692</td>\n",
              "      <td>-34920172</td>\n",
              "      <td>-22340967</td>\n",
              "      <td>-5000448</td>\n",
              "      <td>-6593657</td>\n",
              "      <td>overload</td>\n",
              "      <td>1</td>\n",
              "    </tr>\n",
              "  </tbody>\n",
              "</table>\n",
              "</div>"
            ],
            "text/plain": [
              "        FP1       FP2        C3         C4        P7        P8       O1  \\\n",
              "0 -29691413   9874535 -23121979 -343932669 -34863476 -22378256 -5261850   \n",
              "1 -29654887   9967805 -23165610 -343960755 -34881166 -22370007 -5094624   \n",
              "2 -29608014  10060359 -23222496 -344004338 -34901670 -22357085 -4956532   \n",
              "3 -29564002  10121966 -23267844 -344035475 -34910921 -22340872 -4911709   \n",
              "4 -29555419  10105324 -23300221 -344054692 -34920172 -22340967 -5000448   \n",
              "\n",
              "        O2     Label  encoded_labels  \n",
              "0 -6907988  overload               1  \n",
              "1 -6763745  overload               1  \n",
              "2 -6628800  overload               1  \n",
              "3 -6554985  overload               1  \n",
              "4 -6593657  overload               1  "
            ]
          },
          "execution_count": 17,
          "metadata": {},
          "output_type": "execute_result"
        }
      ],
      "source": [
        "df.head()"
      ]
    },
    {
      "cell_type": "code",
      "execution_count": 18,
      "metadata": {
        "id": "yVGmrZa03L0a"
      },
      "outputs": [],
      "source": [
        "columns_to_drop = ['Label', 'encoded_labels']\n",
        "dropped_columns_df = df[columns_to_drop]\n",
        "df = df.drop(columns=columns_to_drop)"
      ]
    },
    {
      "cell_type": "markdown",
      "metadata": {
        "id": "4Jb-nfoAC-Wb"
      },
      "source": [
        "#Bandpass filtering"
      ]
    },
    {
      "cell_type": "code",
      "execution_count": null,
      "metadata": {
        "id": "OuDsavUa7shn"
      },
      "outputs": [],
      "source": [
        "#To perform bandpass filtering on each row of a DataFrame using a Butterworth filter\n",
        "#Applying bandpass filtering to EEG data serves several purposes in the preprocessing pipeline:\n",
        "# Frequency Band Selection\n",
        "# Noise Reduction\n",
        "# Improved Signal Quality\n",
        "# Facilitate Further Analysis\n",
        "# Enhance Signal-to-Noise Ratio\n",
        "import numpy as np\n",
        "from scipy.signal import butter, filtfilt\n",
        "import pandas as pd\n",
        "\n",
        "def butter_bandpass_filter(data, lowcut, highcut, fs, order=4):\n",
        "    nyquist = 0.5 * fs\n",
        "    low = lowcut / nyquist\n",
        "    high = highcut / nyquist\n",
        "    b, a = butter(order, [low, high], btype='band')\n",
        "    y = filtfilt(b, a, data)\n",
        "    return y\n",
        "\n",
        "fs = 500\n",
        "lowcut = 12.0\n",
        "highcut = 35.0\n",
        "\n",
        "# Apply the filter to each row\n",
        "filtered_data = df.apply(lambda row: butter_bandpass_filter(row, lowcut, highcut, fs), axis=1)\n",
        "filtered_df = pd.DataFrame(filtered_data.tolist(), columns=df.columns)\n",
        "\n",
        "# A bandpass filter is a type of filter that allows signals within a certain frequency range, known as the passband, to pass through while blocking signals outside this range in the stopband.\n",
        "# Bandpass filters are often employed in applications where only a specific range of frequencies needs to be extracted or preserved."
      ]
    },
    {
      "cell_type": "code",
      "execution_count": null,
      "metadata": {
        "id": "TtVoezkzwWWK"
      },
      "outputs": [],
      "source": [
        "def make_plot_pre_processed(column):\n",
        "    plt.figure(figsize=(10, 6))\n",
        "    plt.plot(filtered_df[column], label='EEG Signal', color='blue', linewidth=1.5)\n",
        "    plt.xlabel('Time')\n",
        "    plt.ylabel('Amplitude')\n",
        "    plt.title('EEG Signal Visualization')\n",
        "    plt.grid(True, linestyle='--', alpha=0.7)\n",
        "\n",
        "    plt.axhline(y=0, color='black', linestyle='--', linewidth=1)\n",
        "\n",
        "    plt.legend()\n",
        "    plt.show()\n",
        "\n",
        "make_plot_pre_processed('T8')"
      ]
    },
    {
      "cell_type": "markdown",
      "metadata": {
        "id": "GK9vzCg-7BT4"
      },
      "source": [
        "\n",
        "\n",
        " - `from scipy.signal import butter, filtfilt`: Imports functions from the SciPy library for signal processing, including the Butterworth filter.\n",
        "\n",
        "**Butterworth Bandpass Filter Function:**\n",
        "   - `butter_bandpass_filter(data, lowcut, highcut, fs, order=4)`: Defines a function that applies a Butterworth bandpass filter to a given data sequence.\n",
        "      - `data`: Input data sequence (a row of the DataFrame in this case).\n",
        "      - `lowcut`: Lower cutoff frequency of the bandpass filter.\n",
        "      - `highcut`: Upper cutoff frequency of the bandpass filter.\n",
        "      - `fs`: Sampling frequency of the data.\n",
        "      - `order`: Order of the Butterworth filter (default is 4)."
      ]
    },
    {
      "cell_type": "markdown",
      "metadata": {
        "id": "yJl1jW-D6ga-"
      },
      "source": [
        "#Artifact removal\n",
        "Independent Component Analysis (ICA) is a powerful technique commonly used for this purpose. ICA separates the mixed EEG signals into independent components, allowing you to identify and remove artifacts."
      ]
    },
    {
      "cell_type": "code",
      "execution_count": 19,
      "metadata": {
        "colab": {
          "base_uri": "https://localhost:8080/"
        },
        "id": "lFYzRyIHJwmr",
        "outputId": "c6bf28e6-9b8c-460b-c64d-4f02baab75ec"
      },
      "outputs": [
        {
          "name": "stderr",
          "output_type": "stream",
          "text": [
            "c:\\Users\\LENOVO\\Documents\\Python Scripts\\Major_Project\\myenv\\Lib\\site-packages\\sklearn\\decomposition\\_fastica.py:595: UserWarning: n_components is too large: it will be set to 8\n",
            "  warnings.warn(\n"
          ]
        },
        {
          "name": "stdout",
          "output_type": "stream",
          "text": [
            "             FP1       FP2        C3        C4        P7        P8        O1  \\\n",
            "0      -1.290615  0.683476 -2.164940 -1.708983  0.166994 -0.311244 -0.199047   \n",
            "1      -1.273894  0.661018 -2.167526 -1.714174  0.164146 -0.280373 -0.175396   \n",
            "2      -1.257893  0.642961 -2.172976 -1.715849  0.163931 -0.248928 -0.153718   \n",
            "3      -1.249739  0.638404 -2.179052 -1.713283  0.167443 -0.229399 -0.142861   \n",
            "4      -1.253109  0.650423 -2.184330 -1.706088  0.172814 -0.231496 -0.150530   \n",
            "...          ...       ...       ...       ...       ...       ...       ...   \n",
            "528370 -1.958450  0.956712  0.818949  0.257194  0.308372  0.557402 -0.845127   \n",
            "528371 -1.955146  0.956503  0.816585  0.257867  0.307382  0.560170 -0.845226   \n",
            "528372 -1.945992  0.952372  0.808247  0.266570  0.309912  0.568889 -0.833930   \n",
            "528373 -1.933684  0.946581  0.793593  0.283350  0.317084  0.583340 -0.815846   \n",
            "528374 -1.929829  0.946392  0.784204  0.290019  0.325700  0.599861 -0.806488   \n",
            "\n",
            "              O2  \n",
            "0      -0.402237  \n",
            "1      -0.404556  \n",
            "2      -0.407338  \n",
            "3      -0.410161  \n",
            "4      -0.411234  \n",
            "...          ...  \n",
            "528370 -1.013402  \n",
            "528371 -1.014934  \n",
            "528372 -1.015911  \n",
            "528373 -1.015605  \n",
            "528374 -1.017357  \n",
            "\n",
            "[528375 rows x 8 columns]\n"
          ]
        }
      ],
      "source": [
        "from sklearn.decomposition import FastICA\n",
        "import pandas as pd\n",
        "\n",
        "filtered_df_transposed = df.T\n",
        "n_components = len(filtered_df_transposed.columns)\n",
        "\n",
        "# Apply ICA\n",
        "ica = FastICA(n_components=n_components, random_state=42)\n",
        "ica_result = ica.fit_transform(filtered_df_transposed.T)\n",
        "\n",
        "# Create a DataFrame with the independent components\n",
        "ica_df = pd.DataFrame(ica_result, columns=df.columns)\n",
        "\n",
        "# Display the DataFrame after artifact removal\n",
        "print(ica_df)"
      ]
    },
    {
      "cell_type": "code",
      "execution_count": 20,
      "metadata": {
        "colab": {
          "base_uri": "https://localhost:8080/",
          "height": 557
        },
        "id": "IByF18nTJx04",
        "outputId": "e4210fbd-b520-4d5a-be4c-f81aac1ab7be"
      },
      "outputs": [
        {
          "data": {
            "image/png": "[encoded data removed]",
            "text/plain": [
              "<Figure size 1000x600 with 1 Axes>"
            ]
          },
          "metadata": {},
          "output_type": "display_data"
        }
      ],
      "source": [
        "# ica_df\n",
        "plt.figure(figsize=(10, 6))\n",
        "plt.plot(ica_df['FP1'], label='EEG Signal', color='blue', linewidth=1.5)\n",
        "plt.xlabel('Time')\n",
        "plt.ylabel('Amplitude')\n",
        "plt.title('EEG Signal Visualization')\n",
        "plt.grid(True, linestyle='--', alpha=0.7)\n",
        "\n",
        "plt.axhline(y=0, color='black', linestyle='--', linewidth=1)\n",
        "\n",
        "plt.legend()\n",
        "plt.show()"
      ]
    },
    {
      "cell_type": "markdown",
      "metadata": {
        "id": "cIV-7LGILfk-"
      },
      "source": [
        "#Normalization:\n",
        "Normalization: Scale the amplitude of EEG signals, if necessary, to ensure consistency across subjects or conditions.\n",
        "Normalization is typically performed to scale the amplitude of EEG signals, ensuring consistency across subjects or conditions. A common approach is to normalize each electrode's activity by dividing it by its standard deviation."
      ]
    },
    {
      "cell_type": "code",
      "execution_count": 21,
      "metadata": {
        "colab": {
          "base_uri": "https://localhost:8080/"
        },
        "id": "g35GwoUZLNl7",
        "outputId": "77a893b4-26af-44d6-b701-9271efa872c5"
      },
      "outputs": [
        {
          "name": "stdout",
          "output_type": "stream",
          "text": [
            "             FP1       FP2        C3        C4        P7        P8        O1  \\\n",
            "0      -1.290614  0.683476 -2.164938 -1.708981  0.166994 -0.311244 -0.199047   \n",
            "1      -1.273893  0.661017 -2.167524 -1.714172  0.164146 -0.280373 -0.175396   \n",
            "2      -1.257891  0.642960 -2.172974 -1.715847  0.163931 -0.248928 -0.153718   \n",
            "3      -1.249738  0.638403 -2.179050 -1.713281  0.167443 -0.229399 -0.142861   \n",
            "4      -1.253108  0.650422 -2.184328 -1.706086  0.172813 -0.231496 -0.150530   \n",
            "...          ...       ...       ...       ...       ...       ...       ...   \n",
            "528370 -1.958448  0.956711  0.818948  0.257193  0.308371  0.557402 -0.845126   \n",
            "528371 -1.955144  0.956502  0.816584  0.257866  0.307382  0.560170 -0.845225   \n",
            "528372 -1.945990  0.952371  0.808247  0.266569  0.309912  0.568888 -0.833929   \n",
            "528373 -1.933682  0.946580  0.793592  0.283350  0.317083  0.583340 -0.815845   \n",
            "528374 -1.929828  0.946391  0.784204  0.290019  0.325700  0.599860 -0.806487   \n",
            "\n",
            "              O2  \n",
            "0      -0.402237  \n",
            "1      -0.404556  \n",
            "2      -0.407338  \n",
            "3      -0.410160  \n",
            "4      -0.411234  \n",
            "...          ...  \n",
            "528370 -1.013401  \n",
            "528371 -1.014933  \n",
            "528372 -1.015910  \n",
            "528373 -1.015604  \n",
            "528374 -1.017356  \n",
            "\n",
            "[528375 rows x 8 columns]\n"
          ]
        }
      ],
      "source": [
        "# Apply normalization\n",
        "normalized_df = (ica_df - ica_df.mean(axis=0)) / ica_df.std(axis=0)\n",
        "\n",
        "# it centers the data around zero and scales it to have a standard deviation of 1.\n",
        "# Display the DataFrame after normalization\n",
        "print(normalized_df)"
      ]
    },
    {
      "cell_type": "code",
      "execution_count": 23,
      "metadata": {
        "colab": {
          "base_uri": "https://localhost:8080/",
          "height": 423
        },
        "id": "TU8kXwNmLbVV",
        "outputId": "467310e2-2324-4101-e242-99c297382a40"
      },
      "outputs": [
        {
          "data": {
            "text/plain": [
              "(528375, 8)"
            ]
          },
          "execution_count": 23,
          "metadata": {},
          "output_type": "execute_result"
        }
      ],
      "source": [
        "normalized_df.shape"
      ]
    },
    {
      "cell_type": "code",
      "execution_count": 26,
      "metadata": {
        "id": "juPlioVk4iXv"
      },
      "outputs": [],
      "source": [
        "df = pd.concat([normalized_df, dropped_columns_df['encoded_labels']], axis=1)"
      ]
    },
    {
      "cell_type": "code",
      "execution_count": 28,
      "metadata": {
        "id": "Xn7-No2k4iSX"
      },
      "outputs": [],
      "source": [
        "x = df.iloc[:, :-1]\n",
        "y = df.iloc[:, -1].values"
      ]
    },
    {
      "cell_type": "code",
      "execution_count": 29,
      "metadata": {
        "colab": {
          "base_uri": "https://localhost:8080/",
          "height": 206
        },
        "id": "V3eOS82dv1aw",
        "outputId": "c6159796-2e85-4d22-f708-c17c34cf57f5"
      },
      "outputs": [
        {
          "data": {
            "text/html": [
              "<div>\n",
              "<style scoped>\n",
              "    .dataframe tbody tr th:only-of-type {\n",
              "        vertical-align: middle;\n",
              "    }\n",
              "\n",
              "    .dataframe tbody tr th {\n",
              "        vertical-align: top;\n",
              "    }\n",
              "\n",
              "    .dataframe thead th {\n",
              "        text-align: right;\n",
              "    }\n",
              "</style>\n",
              "<table border=\"1\" class=\"dataframe\">\n",
              "  <thead>\n",
              "    <tr style=\"text-align: right;\">\n",
              "      <th></th>\n",
              "      <th>FP1</th>\n",
              "      <th>FP2</th>\n",
              "      <th>C3</th>\n",
              "      <th>C4</th>\n",
              "      <th>P7</th>\n",
              "      <th>P8</th>\n",
              "      <th>O1</th>\n",
              "      <th>O2</th>\n",
              "    </tr>\n",
              "  </thead>\n",
              "  <tbody>\n",
              "    <tr>\n",
              "      <th>480339</th>\n",
              "      <td>-0.459322</td>\n",
              "      <td>0.873328</td>\n",
              "      <td>-0.619804</td>\n",
              "      <td>3.165759</td>\n",
              "      <td>0.772764</td>\n",
              "      <td>-0.792144</td>\n",
              "      <td>1.228679</td>\n",
              "      <td>-0.678817</td>\n",
              "    </tr>\n",
              "    <tr>\n",
              "      <th>188</th>\n",
              "      <td>-1.216112</td>\n",
              "      <td>0.631221</td>\n",
              "      <td>-2.166139</td>\n",
              "      <td>-1.705753</td>\n",
              "      <td>0.166868</td>\n",
              "      <td>-0.197725</td>\n",
              "      <td>-0.128176</td>\n",
              "      <td>-0.410069</td>\n",
              "    </tr>\n",
              "    <tr>\n",
              "      <th>254069</th>\n",
              "      <td>0.191976</td>\n",
              "      <td>0.330182</td>\n",
              "      <td>0.255568</td>\n",
              "      <td>0.358532</td>\n",
              "      <td>-0.834583</td>\n",
              "      <td>-0.913461</td>\n",
              "      <td>0.660304</td>\n",
              "      <td>1.514389</td>\n",
              "    </tr>\n",
              "    <tr>\n",
              "      <th>47032</th>\n",
              "      <td>0.131881</td>\n",
              "      <td>0.329366</td>\n",
              "      <td>-0.022438</td>\n",
              "      <td>-1.312699</td>\n",
              "      <td>0.082200</td>\n",
              "      <td>-1.235351</td>\n",
              "      <td>0.729637</td>\n",
              "      <td>-0.971744</td>\n",
              "    </tr>\n",
              "    <tr>\n",
              "      <th>489265</th>\n",
              "      <td>-0.325351</td>\n",
              "      <td>-0.095490</td>\n",
              "      <td>0.592258</td>\n",
              "      <td>-0.216160</td>\n",
              "      <td>4.706272</td>\n",
              "      <td>-0.109491</td>\n",
              "      <td>0.338343</td>\n",
              "      <td>0.608861</td>\n",
              "    </tr>\n",
              "  </tbody>\n",
              "</table>\n",
              "</div>"
            ],
            "text/plain": [
              "             FP1       FP2        C3        C4        P7        P8        O1  \\\n",
              "480339 -0.459322  0.873328 -0.619804  3.165759  0.772764 -0.792144  1.228679   \n",
              "188    -1.216112  0.631221 -2.166139 -1.705753  0.166868 -0.197725 -0.128176   \n",
              "254069  0.191976  0.330182  0.255568  0.358532 -0.834583 -0.913461  0.660304   \n",
              "47032   0.131881  0.329366 -0.022438 -1.312699  0.082200 -1.235351  0.729637   \n",
              "489265 -0.325351 -0.095490  0.592258 -0.216160  4.706272 -0.109491  0.338343   \n",
              "\n",
              "              O2  \n",
              "480339 -0.678817  \n",
              "188    -0.410069  \n",
              "254069  1.514389  \n",
              "47032  -0.971744  \n",
              "489265  0.608861  "
            ]
          },
          "execution_count": 29,
          "metadata": {},
          "output_type": "execute_result"
        }
      ],
      "source": [
        "x.sample(5)"
      ]
    },
    {
      "cell_type": "code",
      "execution_count": 27,
      "metadata": {
        "id": "sCe7M9LS4iNc"
      },
      "outputs": [],
      "source": [
        "def split_data_in_order(x, y, test_size):\n",
        "    test_samples = int(len(x) * test_size)\n",
        "\n",
        "    x_train = x[:-test_samples]\n",
        "    x_test = x[-test_samples:]\n",
        "    y_train = y[:-test_samples]\n",
        "    y_test = y[-test_samples:]\n",
        "\n",
        "    return x_train, x_test, y_train, y_test"
      ]
    },
    {
      "cell_type": "code",
      "execution_count": 28,
      "metadata": {
        "id": "rkBrh7Ol4iLC"
      },
      "outputs": [],
      "source": [
        "# x_train, x_test, y_train, y_test = split_data_in_order(x, y, test_size=0.3)"
      ]
    },
    {
      "cell_type": "code",
      "execution_count": 30,
      "metadata": {
        "id": "r5732_Dq3xHm"
      },
      "outputs": [],
      "source": [
        "from sklearn.model_selection import train_test_split\n",
        "x_train, x_test, y_train, y_test = train_test_split(x, y, test_size = 0.2, random_state = 4)"
      ]
    },
    {
      "cell_type": "code",
      "execution_count": 31,
      "metadata": {
        "colab": {
          "base_uri": "https://localhost:8080/"
        },
        "id": "YpsDJTy64iIq",
        "outputId": "5a1fc082-ceb8-4b92-b9b1-03eb35dc5abe"
      },
      "outputs": [
        {
          "data": {
            "text/plain": [
              "(105675, 8)"
            ]
          },
          "execution_count": 31,
          "metadata": {},
          "output_type": "execute_result"
        }
      ],
      "source": [
        "x_test.shape"
      ]
    },
    {
      "cell_type": "code",
      "execution_count": 34,
      "metadata": {
        "id": "HSQtvALIsQ52"
      },
      "outputs": [],
      "source": [
        "from sklearn.preprocessing import StandardScaler\n",
        "scaler = StandardScaler()\n",
        "x_train = scaler.fit_transform(x_train)\n",
        "x_test = scaler.fit_transform(x_test)"
      ]
    },
    {
      "cell_type": "code",
      "execution_count": 35,
      "metadata": {
        "colab": {
          "base_uri": "https://localhost:8080/"
        },
        "id": "PKbXSrczsR0y",
        "outputId": "54587140-9af8-433e-aec1-d5e6547c071a"
      },
      "outputs": [
        {
          "data": {
            "text/plain": [
              "(422700, 8)"
            ]
          },
          "execution_count": 35,
          "metadata": {},
          "output_type": "execute_result"
        }
      ],
      "source": [
        "x_train.shape"
      ]
    },
    {
      "cell_type": "markdown",
      "metadata": {
        "id": "4Ibeq9zZzGFI"
      },
      "source": [
        "Using ML algorithms"
      ]
    },
    {
      "cell_type": "code",
      "execution_count": 32,
      "metadata": {
        "colab": {
          "base_uri": "https://localhost:8080/"
        },
        "id": "cOsHvgyOqaC1",
        "outputId": "a1307eec-952b-4525-c2e9-ea24790a04d0"
      },
      "outputs": [
        {
          "name": "stdout",
          "output_type": "stream",
          "text": [
            "Requirement already satisfied: joblib in c:\\users\\lenovo\\documents\\python scripts\\major_project\\myenv\\lib\\site-packages (1.4.0)\n"
          ]
        }
      ],
      "source": [
        "!pip install joblib"
      ]
    },
    {
      "cell_type": "code",
      "execution_count": null,
      "metadata": {
        "colab": {
          "base_uri": "https://localhost:8080/",
          "height": 1000
        },
        "id": "X3NKFQC_zEOj",
        "outputId": "8cb7626f-c1ca-4439-b6b6-606e0cab5445"
      },
      "outputs": [],
      "source": [
        "from sklearn.ensemble import RandomForestClassifier\n",
        "from sklearn.tree import DecisionTreeClassifier\n",
        "from sklearn.linear_model import LogisticRegression\n",
        "from sklearn.neighbors import KNeighborsClassifier\n",
        "from sklearn.metrics import classification_report, roc_curve, auc\n",
        "from sklearn.metrics import confusion_matrix\n",
        "import joblib\n",
        "\n",
        "saved_models = {}\n",
        "\n",
        "models = {\n",
        "    'Random Forest': RandomForestClassifier(random_state=42),\n",
        "    'Decision Tree': DecisionTreeClassifier(random_state=42),\n",
        "    'K-Nearest Neighbors': KNeighborsClassifier()\n",
        "}\n",
        "\n",
        "for model_name, model in models.items():\n",
        "    print(f\"\\n{model_name} Model:\")\n",
        "    model.fit(x_train, y_train)\n",
        "    y_pred = model.predict(x_test)\n",
        "    cm = confusion_matrix(y_test, y_pred)\n",
        "\n",
        "    plt.figure(figsize=(6, 4))\n",
        "    sns.heatmap(cm, annot=True, fmt='d', cbar=False, cmap='Greens')\n",
        "    plt.title(f\"{model_name} - Confusion Matrix\")\n",
        "    plt.show()\n",
        "\n",
        "    classification_rep = classification_report(y_test, y_pred)\n",
        "    print(f\"{model_name} Classification Report:\\n\", classification_rep)\n",
        "\n",
        "    filename = f\"{model_name}_model.pkl\"\n",
        "    joblib.dump(model, filename)  # for scikit-learn version <= 0.23\n",
        "    # dump(model, filename)  # for scikit-learn version >= 0.24\n",
        "    saved_models[model_name] = filename"
      ]
    },
    {
      "cell_type": "markdown",
      "metadata": {},
      "source": [
        "LSTM "
      ]
    },
    {
      "cell_type": "code",
      "execution_count": 36,
      "metadata": {
        "id": "kEwQ0ZHhsRxM"
      },
      "outputs": [],
      "source": [
        "x_train = x_train.reshape(x_train.shape[0],x_train.shape[1], 1)\n",
        "x_test = x_test.reshape(x_test.shape[0],x_test.shape[1], 1)"
      ]
    },
    {
      "cell_type": "code",
      "execution_count": 35,
      "metadata": {
        "colab": {
          "base_uri": "https://localhost:8080/"
        },
        "id": "7x36YPpWsRuk",
        "outputId": "f8960385-3d9c-4ab4-a096-babb67d5556e"
      },
      "outputs": [
        {
          "data": {
            "text/plain": [
              "(422700, 8, 1)"
            ]
          },
          "execution_count": 35,
          "metadata": {},
          "output_type": "execute_result"
        }
      ],
      "source": [
        "x_train.shape"
      ]
    },
    {
      "cell_type": "code",
      "execution_count": 37,
      "metadata": {},
      "outputs": [
        {
          "data": {
            "text/plain": [
              "array([[ 0.7842074 ],\n",
              "       [ 0.14213192],\n",
              "       [ 0.03096061],\n",
              "       [-0.05874451],\n",
              "       [-0.70241506],\n",
              "       [ 1.46672276],\n",
              "       [ 0.19744564],\n",
              "       [ 1.28283491]])"
            ]
          },
          "execution_count": 37,
          "metadata": {},
          "output_type": "execute_result"
        }
      ],
      "source": [
        "x_test[0]"
      ]
    },
    {
      "cell_type": "code",
      "execution_count": 38,
      "metadata": {
        "id": "7Da4ObASsRr7"
      },
      "outputs": [],
      "source": [
        "from keras.utils import to_categorical\n",
        "y_train = to_categorical(y_train)\n",
        "y_test = to_categorical(y_test)"
      ]
    },
    {
      "cell_type": "code",
      "execution_count": 40,
      "metadata": {
        "colab": {
          "base_uri": "https://localhost:8080/"
        },
        "id": "615LZkSssRpg",
        "outputId": "bfb1edcf-b207-4aa8-a05f-ce6fb2e42d87"
      },
      "outputs": [
        {
          "data": {
            "text/plain": [
              "array([[0., 1., 0.],\n",
              "       [0., 0., 1.],\n",
              "       [0., 0., 1.],\n",
              "       ...,\n",
              "       [0., 1., 0.],\n",
              "       [1., 0., 0.],\n",
              "       [1., 0., 0.]])"
            ]
          },
          "execution_count": 40,
          "metadata": {},
          "output_type": "execute_result"
        }
      ],
      "source": [
        "y_train"
      ]
    },
    {
      "cell_type": "code",
      "execution_count": 41,
      "metadata": {
        "id": "FCnhZe88sRm8"
      },
      "outputs": [],
      "source": [
        "batch_size = 256\n",
        "num_classes = 3\n",
        "epochs = 5\n",
        "input_shape=(x_train.shape[1], 1)"
      ]
    },
    {
      "cell_type": "code",
      "execution_count": 42,
      "metadata": {
        "colab": {
          "base_uri": "https://localhost:8080/"
        },
        "id": "5qzW0cP3sRkW",
        "outputId": "cb7f6002-c4ed-4f91-9a9c-acc7de8ff009"
      },
      "outputs": [
        {
          "name": "stdout",
          "output_type": "stream",
          "text": [
            "(8, 1)\n"
          ]
        }
      ],
      "source": [
        "print(input_shape)"
      ]
    },
    {
      "cell_type": "code",
      "execution_count": 43,
      "metadata": {
        "id": "GSdgv9cG0HG-"
      },
      "outputs": [],
      "source": [
        "import keras"
      ]
    },
    {
      "cell_type": "code",
      "execution_count": null,
      "metadata": {
        "colab": {
          "base_uri": "https://localhost:8080/"
        },
        "id": "Szn4d7Txz66v",
        "outputId": "001e835d-67c7-4e1b-e72b-050afb654a99"
      },
      "outputs": [],
      "source": [
        "from keras.regularizers import l2\n",
        "from keras.layers import Bidirectional\n",
        "from keras.layers import LSTM\n",
        "from keras.models import Sequential\n",
        "from keras.layers import Activation, Dropout, Flatten, Dense\n",
        "\n",
        "model = Sequential()\n",
        "\n",
        "model.add(Bidirectional(LSTM(128, return_sequences=True), input_shape=input_shape))\n",
        "model.add(Dropout(0.6))\n",
        "\n",
        "model.add(LSTM(units = 256, return_sequences = True))\n",
        "model.add(Dropout(0.6))\n",
        "\n",
        "model.add(LSTM(units = 64, return_sequences = True))\n",
        "model.add(Dropout(0.6))\n",
        "\n",
        "model.add(LSTM(units = 64, return_sequences = True))\n",
        "model.add(Dropout(0.4))\n",
        "\n",
        "model.add(LSTM(units = 32))\n",
        "model.add(Dropout(0.4))\n",
        "\n",
        "model.add(Dense(units = 16))\n",
        "model.add(Activation('relu'))\n",
        "\n",
        "model.add(Dense(units = num_classes))\n",
        "model.add(Activation('softmax'))\n",
        "model.compile(optimizer =\"adam\", loss =keras.losses.categorical_crossentropy,metrics=[\"accuracy\"])\n",
        "m = model.fit(x_train, y_train,epochs=3,batch_size=256,verbose=1,validation_data=(x_test, y_test))"
      ]
    },
    {
      "cell_type": "code",
      "execution_count": null,
      "metadata": {
        "colab": {
          "base_uri": "https://localhost:8080/"
        },
        "id": "cJ7CDq-tz6-E",
        "outputId": "a5c18ca4-b05e-448e-8535-eb76deb1a96f"
      },
      "outputs": [],
      "source": [
        "model.summary()"
      ]
    },
    {
      "cell_type": "code",
      "execution_count": 47,
      "metadata": {
        "colab": {
          "base_uri": "https://localhost:8080/"
        },
        "id": "NgQi7rSLz7AD",
        "outputId": "63ad8ca1-9375-41a3-e5e1-f732f5facef5"
      },
      "outputs": [
        {
          "name": "stderr",
          "output_type": "stream",
          "text": [
            "WARNING:absl:You are saving your model as an HDF5 file via `model.save()` or `keras.saving.save_model(model)`. This file format is considered legacy. We recommend using instead the native Keras format, e.g. `model.save('my_model.keras')` or `keras.saving.save_model(model, 'my_model.keras')`. \n"
          ]
        }
      ],
      "source": [
        "model.save('LSTM.h5')"
      ]
    },
    {
      "cell_type": "code",
      "execution_count": null,
      "metadata": {
        "colab": {
          "base_uri": "https://localhost:8080/"
        },
        "id": "zIR6XPByz7Ce",
        "outputId": "1116dd00-cf81-4e80-83b6-f4b597750674"
      },
      "outputs": [],
      "source": [
        "score = model.evaluate(x_test, y_test, verbose=1)\n",
        "print('Test loss:', score[0])\n",
        "print('Test accuracy:', score[1])"
      ]
    },
    {
      "cell_type": "code",
      "execution_count": null,
      "metadata": {
        "colab": {
          "base_uri": "https://localhost:8080/",
          "height": 483
        },
        "id": "qagXGksdz7Fp",
        "outputId": "134d88d8-8500-453c-e14a-e503792cee1e"
      },
      "outputs": [],
      "source": [
        "import matplotlib.pyplot as plt\n",
        "print(m.history.keys())\n",
        "# summarize history for accuracy\n",
        "plt.plot(m.history['accuracy'])\n",
        "plt.plot(m.history['val_accuracy'])\n",
        "plt.title('model accuracy')\n",
        "plt.ylabel('accuracy')\n",
        "plt.xlabel('epoch')\n",
        "plt.legend(['train', 'test'], loc='upper left')\n",
        "plt.show()"
      ]
    },
    {
      "cell_type": "code",
      "execution_count": null,
      "metadata": {
        "colab": {
          "base_uri": "https://localhost:8080/",
          "height": 465
        },
        "id": "t5mdgdBVz7MX",
        "outputId": "6a4fb3ec-131c-4a12-c90e-a62a85790522"
      },
      "outputs": [],
      "source": [
        "# summarize history for loss\n",
        "plt.plot(m.history['loss'])\n",
        "plt.plot(m.history['val_loss'])\n",
        "plt.title('model loss')\n",
        "plt.ylabel('loss')\n",
        "plt.xlabel('epoch')\n",
        "plt.legend(['train', 'test'], loc='upper left')\n",
        "plt.show()"
      ]
    },
    {
      "cell_type": "code",
      "execution_count": null,
      "metadata": {
        "colab": {
          "base_uri": "https://localhost:8080/",
          "height": 465
        },
        "id": "5oITkue70eea",
        "outputId": "f5eddc24-cf10-47e8-9250-37420e306b3e"
      },
      "outputs": [],
      "source": [
        "plt.plot(m.history['val_accuracy'])\n",
        "plt.plot(m.history['val_loss'])\n",
        "plt.title('test model')\n",
        "plt.ylabel('test accuracy')\n",
        "plt.xlabel('test loss')\n",
        "plt.show()"
      ]
    }
  ],
  "metadata": {
    "accelerator": "TPU",
    "colab": {
      "gpuType": "V28",
      "provenance": []
    },
    "kernelspec": {
      "display_name": "Python 3",
      "name": "python3"
    },
    "language_info": {
      "codemirror_mode": {
        "name": "ipython",
        "version": 3
      },
      "file_extension": ".py",
      "mimetype": "text/x-python",
      "name": "python",
      "nbconvert_exporter": "python",
      "pygments_lexer": "ipython3",
      "version": "3.11.3"
    }
  },
  "nbformat": 4,
  "nbformat_minor": 0
}
